{
 "cells": [
  {
   "cell_type": "markdown",
   "id": "b7e6352d",
   "metadata": {},
   "source": [
    "             Name: [Rahel Genene]\n",
    "             ID: [1601570]\n",
    "             Department: [Data Science ]\n",
    "             GitHub: [https://github.com/RahelGenene]\n",
    "             \n"
   ]
  },
  {
   "cell_type": "code",
   "execution_count": 13,
   "id": "5690421a",
   "metadata": {},
   "outputs": [],
   "source": [
    "\n",
    "Students = [\n",
    "    {'id': 'DBU1500001', 'name': 'Dawit', 'dept': 'DS', 'cgpa': 3.34},\n",
    "    {'id': 'DBU1500003', 'name': 'Abrham', 'dept': 'CS', 'cgpa': 3.12},\n",
    "    {'id': 'DBU1500002', 'name': 'Soliana', 'dept': 'DS', 'cgpa': 2.74},\n",
    "    {'id': 'DBU1500005', 'name': 'Rahel', 'dept': 'CS', 'cgpa': 3.10},\n",
    "    {'id': 'DBU1500004', 'name': 'Maranata', 'dept': 'SE', 'cgpa': 3.85},\n",
    "    {'id': 'DBU1500006', 'name': 'yisehak', 'dept': 'IT', 'cgpa': 2.43},\n",
    "    {'id': 'DBU1500009', 'name': 'peter', 'dept': 'SE', 'cgpa': 3.43},\n",
    "    {'id': 'DBU1500008', 'name': 'meron', 'dept': 'CS', 'cgpa': 2.12},\n",
    "    {'id': 'DBU1500007', 'name': 'abenezer', 'dept': 'DS', 'cgpa': 2.22},\n",
    "    {'id': 'DBU1500010', 'name': 'Betty', 'dept': 'IT', 'cgpa': 3.58}\n",
    "]\n"
   ]
  },
  {
   "cell_type": "markdown",
   "id": "6ebf8151",
   "metadata": {},
   "source": [
    "1. Bubble Sort by ID\n",
    "\n",
    "\n",
    "\n",
    "Bubble sort repeatedly compares adjacent elements and swaps them if they are in the wrong order."
   ]
  },
  {
   "cell_type": "code",
   "execution_count": 12,
   "id": "e5c9049e",
   "metadata": {},
   "outputs": [
    {
     "name": "stdout",
     "output_type": "stream",
     "text": [
      "Sorted by ID (Bubble Sort):\n",
      "{'id': 'DBU1500001', 'name': 'Dawit', 'dept': 'DS', 'cgpa': 3.34}\n",
      "{'id': 'DBU1500002', 'name': 'Soliana', 'dept': 'DS', 'cgpa': 2.74}\n",
      "{'id': 'DBU1500003', 'name': 'Abrham', 'dept': 'CS', 'cgpa': 3.12}\n",
      "{'id': 'DBU1500004', 'name': 'Maranata', 'dept': 'SE', 'cgpa': 3.85}\n",
      "{'id': 'DBU1500005', 'name': 'Rahel', 'dept': 'CS', 'cgpa': 3.1}\n",
      "{'id': 'DBU1500006', 'name': 'yisehak', 'dept': 'IT', 'cgpa': 2.43}\n",
      "{'id': 'DBU1500007', 'name': 'abenezer', 'dept': 'DS', 'cgpa': 2.22}\n",
      "{'id': 'DBU1500008', 'name': 'meron', 'dept': 'CS', 'cgpa': 2.12}\n",
      "{'id': 'DBU1500009', 'name': 'peter', 'dept': 'SE', 'cgpa': 3.43}\n",
      "{'id': 'DBU1500010', 'name': 'Betty', 'dept': 'IT', 'cgpa': 3.58}\n"
     ]
    }
   ],
   "source": [
    "def bubble_sort_by_id(student_list):\n",
    "    n = len(student_list)\n",
    "    for i in range(n):\n",
    "        for j in range(0, n-i-1):\n",
    "            if student_list[j]['id'] > student_list[j+1]['id']:\n",
    "                student_list[j], student_list[j+1] = student_list[j+1], student_list[j]\n",
    "    return student_list\n",
    "\n",
    "# Bubble sort result\n",
    "sorted_by_id = bubble_sort_by_id(Students.copy())\n",
    "print(\"Sorted by ID (Bubble Sort):\")\n",
    "for student in sorted_by_id:\n",
    "    print(student)\n"
   ]
  },
  {
   "cell_type": "markdown",
   "id": "e64a99de",
   "metadata": {},
   "source": [
    "Insertion Sort by Name (Alphabetical)\n",
    "\n",
    "\n",
    "Insertion sort builds the final sorted array one item at a time by comparing the current element with previous ones."
   ]
  },
  {
   "cell_type": "code",
   "execution_count": 9,
   "id": "43afa0c4",
   "metadata": {},
   "outputs": [
    {
     "name": "stdout",
     "output_type": "stream",
     "text": [
      "\n",
      "Sorted by Name (Insertion Sort):\n",
      "{'id': 'DBU1500007', 'name': 'abenezer', 'dept': 'DS', 'cgpa': 2.22}\n",
      "{'id': 'DBU1500003', 'name': 'Abrham', 'dept': 'CS', 'cgpa': 3.12}\n",
      "{'id': 'DBU1500010', 'name': 'Betty', 'dept': 'IT', 'cgpa': 3.58}\n",
      "{'id': 'DBU1500001', 'name': 'Dawit', 'dept': 'DS', 'cgpa': 3.34}\n",
      "{'id': 'DBU1500004', 'name': 'Maranata', 'dept': 'SE', 'cgpa': 3.85}\n",
      "{'id': 'DBU1500008', 'name': 'meron', 'dept': 'CS', 'cgpa': 2.12}\n",
      "{'id': 'DBU1500009', 'name': 'peter', 'dept': 'SE', 'cgpa': 3.43}\n",
      "{'id': 'DBU1500005', 'name': 'Rahel', 'dept': 'CS', 'cgpa': 3.1}\n",
      "{'id': 'DBU1500002', 'name': 'Soliana', 'dept': 'DS', 'cgpa': 2.74}\n",
      "{'id': 'DBU1500006', 'name': 'yisehak', 'dept': 'IT', 'cgpa': 2.43}\n"
     ]
    }
   ],
   "source": [
    "def insertion_sort_by_name(student_list):\n",
    "    for i in range(1, len(student_list)):\n",
    "        key = student_list[i]\n",
    "        j = i - 1\n",
    "        while j >= 0 and student_list[j]['name'].lower() > key['name'].lower():\n",
    "            student_list[j + 1] = student_list[j]\n",
    "            j -= 1\n",
    "        student_list[j + 1] = key\n",
    "    return student_list\n",
    "\n",
    "# Insertion sort result\n",
    "sorted_by_name = insertion_sort_by_name(Students.copy())\n",
    "print(\"\\nSorted by Name (Insertion Sort):\")\n",
    "for student in sorted_by_name:\n",
    "    print(student)\n"
   ]
  },
  {
   "cell_type": "markdown",
   "id": "7b256413",
   "metadata": {},
   "source": [
    "Selection Sort by CGPA (Descending)\n",
    "\n",
    "\n",
    "\n",
    "\n",
    "Selection sort repeatedly selects the maximum element (for descending) and moves it to the front."
   ]
  },
  {
   "cell_type": "code",
   "execution_count": 10,
   "id": "93e52d3e",
   "metadata": {},
   "outputs": [
    {
     "name": "stdout",
     "output_type": "stream",
     "text": [
      "\n",
      "Sorted by CGPA (Selection Sort - Descending):\n",
      "{'id': 'DBU1500004', 'name': 'Maranata', 'dept': 'SE', 'cgpa': 3.85}\n",
      "{'id': 'DBU1500010', 'name': 'Betty', 'dept': 'IT', 'cgpa': 3.58}\n",
      "{'id': 'DBU1500009', 'name': 'peter', 'dept': 'SE', 'cgpa': 3.43}\n",
      "{'id': 'DBU1500001', 'name': 'Dawit', 'dept': 'DS', 'cgpa': 3.34}\n",
      "{'id': 'DBU1500003', 'name': 'Abrham', 'dept': 'CS', 'cgpa': 3.12}\n",
      "{'id': 'DBU1500005', 'name': 'Rahel', 'dept': 'CS', 'cgpa': 3.1}\n",
      "{'id': 'DBU1500002', 'name': 'Soliana', 'dept': 'DS', 'cgpa': 2.74}\n",
      "{'id': 'DBU1500006', 'name': 'yisehak', 'dept': 'IT', 'cgpa': 2.43}\n",
      "{'id': 'DBU1500007', 'name': 'abenezer', 'dept': 'DS', 'cgpa': 2.22}\n",
      "{'id': 'DBU1500008', 'name': 'meron', 'dept': 'CS', 'cgpa': 2.12}\n"
     ]
    }
   ],
   "source": [
    "def selection_sort_by_cgpa_desc(student_list):\n",
    "    n = len(student_list)\n",
    "    for i in range(n):\n",
    "        max_idx = i\n",
    "        for j in range(i+1, n):\n",
    "            if student_list[j]['cgpa'] > student_list[max_idx]['cgpa']:\n",
    "                max_idx = j\n",
    "        student_list[i], student_list[max_idx] = student_list[max_idx], student_list[i]\n",
    "    return student_list\n",
    "\n",
    "# Selection sort result\n",
    "sorted_by_cgpa = selection_sort_by_cgpa_desc(Students.copy())\n",
    "print(\"\\nSorted by CGPA (Selection Sort - Descending):\")\n",
    "for student in sorted_by_cgpa:\n",
    "    print(student)\n"
   ]
  },
  {
   "cell_type": "markdown",
   "id": "b0f9b832",
   "metadata": {},
   "source": [
    "\n",
    "            1.Bubble Sort\n",
    "  Time Complexity: O(n²)\n",
    "\n",
    "  Best Case: O(n) (already sorted)\n",
    "\n",
    "Advantages:  Simple to understand and implemenent, In-place sorting algorithm (requires minimal extra memory).\n",
    "\n",
    "   Performs well on nearly sorted data (best-case O(n)).\n",
    "\n",
    "Disadvantages: Inefficient for large datasets due to its O(n^2) time complexity,Performs many unnecessary swaps.\n",
    "\n",
    "  \n",
    "\n",
    "             2.Insertion Sort:\n",
    "Time Complexity: O(n²)\n",
    "\n",
    "Best Case: O(n) (nearly sorted)\n",
    "\n",
    "Advantages: Efficient for small or nearly sorted data, stable sorting algorithm and simple to understand\n",
    "\n",
    "Disadvantages: Still quadratic time for large unsorted data,shifiting elements can be time consuming\n",
    "\n",
    "            3.Selection Sort:\n",
    "Time Complexity: O(n²) always\n",
    "\n",
    "Advantages: simple to understand and implement,performs a minimal number of swaps (O(n)).This can be\n",
    " advantageous if swapping is a  costly operation\n",
    "\n",
    "Disadvantages: inefficient for larger datasets due to its (O(n²)) time complexity in all cases.\n",
    "Not stable (the relative order of elements with equal keys may not be preserved).This might\n",
    "be a concern if we had students with the same CGPA and their intial order was importannt.\n",
    "\n",
    "\n",
    "             Conclusion\n",
    "For sorting a small number of student profiles, the performance differences between these three\n",
    "algorithms might be negligible. However, for larger datasets, their quadratic time complexity (O(n^2))\n",
    " makes them less suitable compared to more advanced sorting algorithms like Merge Sort or Quick Sort.\n",
    " The choice of algorithm among Bubble Sort, Insertion Sort, and Selection Sort depends on the specific\n",
    " characteristics of the data (e.g., if it's nearly sorted) and the priorities (e.g., stability,\n",
    " minimizing swaps). In general, for larger, unsorted datasets, Insertion Sort often outperforms Bubble\n",
    " Sort, and Selection Sort might be preferred if minimizing swaps is crucial. However, for truly large\n",
    " datasets, algorithms with O(n log n) time complexity are generally recommended.\n",
    "\n"
   ]
  },
  {
   "cell_type": "markdown",
   "id": "7dfe4ed3",
   "metadata": {},
   "source": []
  }
 ],
 "metadata": {
  "kernelspec": {
   "display_name": "base",
   "language": "python",
   "name": "python3"
  },
  "language_info": {
   "codemirror_mode": {
    "name": "ipython",
    "version": 3
   },
   "file_extension": ".py",
   "mimetype": "text/x-python",
   "name": "python",
   "nbconvert_exporter": "python",
   "pygments_lexer": "ipython3",
   "version": "3.12.7"
  }
 },
 "nbformat": 4,
 "nbformat_minor": 5
}
